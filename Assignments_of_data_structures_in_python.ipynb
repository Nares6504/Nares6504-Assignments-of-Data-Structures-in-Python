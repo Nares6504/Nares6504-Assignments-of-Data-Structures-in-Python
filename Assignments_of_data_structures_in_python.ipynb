{
 "cells": [
  {
   "cell_type": "code",
   "execution_count": 1,
   "id": "f4c7df48-1a42-45fa-9076-aefee2893607",
   "metadata": {},
   "outputs": [
    {
     "name": "stdout",
     "output_type": "stream",
     "text": [
      "!dlroW ,olleH\n"
     ]
    }
   ],
   "source": [
    "#1. Write a code to reverse a string.\n",
    "\n",
    "reversed_string = \"Hello, World!\"[::-1]\n",
    "print(reversed_string)"
   ]
  },
  {
   "cell_type": "code",
   "execution_count": 2,
   "id": "3677138b-6361-4ee3-8109-f75f7c5527ba",
   "metadata": {},
   "outputs": [
    {
     "name": "stdout",
     "output_type": "stream",
     "text": [
      "Number of vowels: 3\n"
     ]
    }
   ],
   "source": [
    "#2.Write a code to count the number of vowels in a string.\n",
    "\n",
    "input_string = \"Hello, World!\"\n",
    "input_string = input_string.lower()\n",
    "count_a = input_string.count('a')\n",
    "count_e = input_string.count('e')\n",
    "count_i = input_string.count('i')\n",
    "count_o = input_string.count('o')\n",
    "count_u = input_string.count('u')\n",
    "total_vowels = count_a + count_e + count_i + count_o + count_u\n",
    "print(\"Number of vowels:\", total_vowels)"
   ]
  },
  {
   "cell_type": "code",
   "execution_count": 3,
   "id": "73315280-a4e8-4239-b455-ccb3037bf67a",
   "metadata": {},
   "outputs": [
    {
     "name": "stdout",
     "output_type": "stream",
     "text": [
      "Is palindrome: True\n"
     ]
    }
   ],
   "source": [
    "#3. Write a code to check if a given string is a palindrome or not.\n",
    "\n",
    "input_string = \"A man a plan a canal Panama\"\n",
    "input_string = input_string.replace(\" \", \"\").lower()\n",
    "is_palindrome = input_string == input_string[::-1]\n",
    "print(\"Is palindrome:\", is_palindrome)"
   ]
  },
  {
   "cell_type": "code",
   "execution_count": 4,
   "id": "f789a197-b930-4420-a810-fd2039970a90",
   "metadata": {},
   "outputs": [
    {
     "name": "stdout",
     "output_type": "stream",
     "text": [
      "Are anagrams: True\n"
     ]
    }
   ],
   "source": [
    "#4. Write a code to check if two given strings are anagrams of each other.\n",
    "\n",
    "string1 = \"listen\"\n",
    "string2 = \"silent\"\n",
    "\n",
    "string1 = ''.join(sorted(string1.lower()))\n",
    "string2 = ''.join(sorted(string2.lower()))\n",
    "\n",
    "are_anagrams = string1 == string2\n",
    "print(\"Are anagrams:\", are_anagrams)"
   ]
  },
  {
   "cell_type": "code",
   "execution_count": 5,
   "id": "585c14da-a16a-4a58-87ee-75b300299792",
   "metadata": {},
   "outputs": [
    {
     "name": "stdout",
     "output_type": "stream",
     "text": [
      "Occurrences of 'hello' in 'hello world hello': [0, 12]\n"
     ]
    }
   ],
   "source": [
    "#5. Write a code to find all occurrences of a given substring within another string.\n",
    "\n",
    "main_string = \"hello world hello\"\n",
    "sub_string = \"hello\"\n",
    "occurrences = [i for i in range(len(main_string) - len(sub_string) + 1) if main_string[i:i+len(sub_string)] == sub_string]\n",
    "print(\"Occurrences of '{}' in '{}': {}\".format(sub_string, main_string, occurrences))"
   ]
  },
  {
   "cell_type": "code",
   "execution_count": 6,
   "id": "d70ee667-e06d-444c-827f-bf1debd1ce53",
   "metadata": {},
   "outputs": [
    {
     "name": "stdout",
     "output_type": "stream",
     "text": [
      "Compressed string: a1m1a1n1a1p1l1a1n1a1c1a1n1a1l1p1a1n1a1m1a1\n"
     ]
    }
   ],
   "source": [
    "#6. Write a code to perform basic string compression using the counts of repeated characters.\n",
    "\n",
    "compressed_string = \"\"\n",
    "current_char = input_string[0]\n",
    "count = 1\n",
    "\n",
    "for char in input_string[1:]:\n",
    "    if char == current_char:\n",
    "        count += 1\n",
    "    else:\n",
    "        compressed_string += current_char + str(count)\n",
    "        current_char = char\n",
    "        count = 1\n",
    "\n",
    "compressed_string += current_char + str(count)\n",
    "\n",
    "print(\"Compressed string:\", compressed_string)"
   ]
  },
  {
   "cell_type": "code",
   "execution_count": 7,
   "id": "a195e9ca-91b5-4af8-b985-8c3fd0daee0e",
   "metadata": {},
   "outputs": [
    {
     "name": "stdout",
     "output_type": "stream",
     "text": [
      "All characters are unique: True\n"
     ]
    }
   ],
   "source": [
    "#7. Write a code to determine if a string has all unique characters.\n",
    "\n",
    "input_string = \"abcdefg\"\n",
    "\n",
    "is_unique = len(set(input_string)) == len(input_string)\n",
    "print(\"All characters are unique:\", is_unique)"
   ]
  },
  {
   "cell_type": "code",
   "execution_count": 8,
   "id": "18c6979d-e768-4c73-b2ef-effcf3985631",
   "metadata": {},
   "outputs": [
    {
     "name": "stdout",
     "output_type": "stream",
     "text": [
      "Uppercase: HELLO, WORLD!\n",
      "Lowercase: hello, world!\n"
     ]
    }
   ],
   "source": [
    "#8. Write a code to convert a given string to uppercase or lowercase.\n",
    "\n",
    "input_string = \"Hello, World!\"\n",
    "\n",
    "# Convert to uppercase\n",
    "uppercase_string = input_string.upper()\n",
    "print(\"Uppercase:\", uppercase_string)\n",
    "\n",
    "# Convert to lowercase\n",
    "lowercase_string = input_string.lower()\n",
    "print(\"Lowercase:\", lowercase_string)"
   ]
  },
  {
   "cell_type": "code",
   "execution_count": 9,
   "id": "97655be1-319f-498e-8cd3-df6becb22385",
   "metadata": {},
   "outputs": [
    {
     "name": "stdout",
     "output_type": "stream",
     "text": [
      "Number of words: 6\n"
     ]
    }
   ],
   "source": [
    "#9. Write a code to count the number of words in a string.\n",
    "\n",
    "input_string = \"Hello, this is a sample string.\"\n",
    "words = input_string.split()\n",
    "\n",
    "num_words = len(words)\n",
    "\n",
    "print(\"Number of words:\", num_words)"
   ]
  },
  {
   "cell_type": "code",
   "execution_count": 10,
   "id": "2a4a141b-17c9-465c-9208-005d2d2107f8",
   "metadata": {},
   "outputs": [
    {
     "name": "stdout",
     "output_type": "stream",
     "text": [
      "Hello, World!\n"
     ]
    }
   ],
   "source": [
    "#10. Write a code to concatenate two strings without using the + operator.\n",
    "\n",
    "string1 = \"Hello\"\n",
    "string2 = \", World!\"\n",
    "\n",
    "concatenated_string = \"\".join([string1, string2])\n",
    "print(concatenated_string)"
   ]
  },
  {
   "cell_type": "code",
   "execution_count": 11,
   "id": "332bd710-961b-4c6c-a2a8-e05179948169",
   "metadata": {},
   "outputs": [
    {
     "name": "stdout",
     "output_type": "stream",
     "text": [
      "Original list:\n",
      "[10, 20, 10, 30, 10, 40, 10, 50]\n",
      "list after removing elements:\n",
      "[20, 30, 40, 50]\n"
     ]
    }
   ],
   "source": [
    "#11. Write a code to remove all occurrences of a specific element from a list.\n",
    "\n",
    "list = [10, 20, 10, 30, 10, 40, 10, 50]\n",
    "n = 10\n",
    "\n",
    "print (\"Original list:\")\n",
    "print (list)\n",
    "\n",
    "for x in list:\n",
    "    if x == n:\n",
    "        list.remove(x)\n",
    "\n",
    "print (\"list after removing elements:\")\n",
    "print (list)"
   ]
  },
  {
   "cell_type": "code",
   "execution_count": 12,
   "id": "1d2e471a-848b-4869-89f4-90521c2609cb",
   "metadata": {},
   "outputs": [
    {
     "name": "stdout",
     "output_type": "stream",
     "text": [
      "Second largest number: 15\n"
     ]
    }
   ],
   "source": [
    "#12. Implement a code to find the second largest number in a given list of integers.\n",
    "\n",
    "numbers = [10, 5, 8, 20, 15, 12]\n",
    "\n",
    "sorted_numbers = sorted(numbers, reverse=True)\n",
    "second_largest = sorted_numbers[1]\n",
    "\n",
    "print(\"Second largest number:\", second_largest)"
   ]
  },
  {
   "cell_type": "code",
   "execution_count": 13,
   "id": "e9a65d7d-55eb-48ff-9aaa-f4a1d6e7d015",
   "metadata": {},
   "outputs": [
    {
     "name": "stdout",
     "output_type": "stream",
     "text": [
      "Occurrences of each element: {1: 1, 2: 2, 3: 3, 4: 4}\n"
     ]
    }
   ],
   "source": [
    "#13. Create a code to count the occurrences of each element in a list and return a dictionary with element as keys and their counts as values.\n",
    "\n",
    "my_list = [1, 2, 2, 3, 3, 3, 4, 4, 4, 4]\n",
    "\n",
    "count_dict = {}\n",
    "\n",
    "for element in my_list:\n",
    "    if element in count_dict:\n",
    "        count_dict[element] += 1\n",
    "    else:\n",
    "        count_dict[element] = 1\n",
    "\n",
    "print(\"Occurrences of each element:\", count_dict)"
   ]
  },
  {
   "cell_type": "code",
   "execution_count": 14,
   "id": "d28bedfb-fcf6-4906-9ebd-7ea756bcb4f7",
   "metadata": {},
   "outputs": [
    {
     "name": "stdout",
     "output_type": "stream",
     "text": [
      "Reversed List:  [6, 5, 4, 3, 2, 1]\n"
     ]
    }
   ],
   "source": [
    "#14. Write a code to reverse a list in-place without using any built-in reverse functions.\n",
    "\n",
    "My_List = [1, 2, 3, 4, 5, 6]\n",
    "\n",
    "a = My_List[::-1]\n",
    "print('Reversed List: ', a)"
   ]
  },
  {
   "cell_type": "code",
   "execution_count": 15,
   "id": "a04cc9fc-632d-4c4f-928d-09627dbd590f",
   "metadata": {},
   "outputs": [
    {
     "name": "stdout",
     "output_type": "stream",
     "text": [
      "List with duplicates removed while preserving order: [1, 2, 3, 4, 5, 6]\n"
     ]
    }
   ],
   "source": [
    "#15. Implement a code to find and remove duplicates from a list while preserving the original order of elements.\n",
    "\n",
    "# Given list with duplicates\n",
    "my_list = [1, 2, 3, 2, 4, 5, 3, 6, 1]\n",
    "\n",
    "# Initialize an empty set to store unique elements\n",
    "seen = set()\n",
    "\n",
    "# Initialize an empty list to store elements in their original order\n",
    "unique_list = []\n",
    "\n",
    "# Iterate through the list\n",
    "for item in my_list:\n",
    "    # If the item is not in the set, add it to both the set and the unique list\n",
    "    if item not in seen:\n",
    "        seen.add(item)\n",
    "        unique_list.append(item)\n",
    "\n",
    "print(\"List with duplicates removed while preserving order:\", unique_list)"
   ]
  },
  {
   "cell_type": "code",
   "execution_count": 16,
   "id": "ac599688-f1e3-4811-8872-66707e96de37",
   "metadata": {},
   "outputs": [
    {
     "name": "stdout",
     "output_type": "stream",
     "text": [
      "Is the list sorted (ascending or descending)? True\n"
     ]
    }
   ],
   "source": [
    "#16.Create a code to check if a given list is sorted (either in ascending or descending order) or not.\n",
    "\n",
    "my_list = [1, 2, 3, 4, 5]\n",
    "\n",
    "is_ascending = my_list == sorted(my_list)\n",
    "\n",
    "is_descending = my_list == sorted(my_list, reverse=True)\n",
    "\n",
    "is_sorted = is_ascending or is_descending\n",
    "\n",
    "print(\"Is the list sorted (ascending or descending)?\", is_sorted)"
   ]
  },
  {
   "cell_type": "code",
   "execution_count": 17,
   "id": "10da20fd-a202-42c3-9d56-5a97a4079169",
   "metadata": {},
   "outputs": [
    {
     "name": "stdout",
     "output_type": "stream",
     "text": [
      "Merged and sorted list: [1, 2, 3, 4, 5, 6, 7, 8]\n"
     ]
    }
   ],
   "source": [
    "#17. Write a code to merge two sorted lists into a single sorted list.\n",
    "\n",
    "list1 = [1, 3, 5, 7]\n",
    "list2 = [2, 4, 6, 8]\n",
    "\n",
    "merged_list = sorted(list1 + list2)\n",
    "\n",
    "print(\"Merged and sorted list:\", merged_list)"
   ]
  },
  {
   "cell_type": "code",
   "execution_count": 18,
   "id": "d6e1370f-057a-4d65-b14f-3c16d4edfa61",
   "metadata": {},
   "outputs": [
    {
     "name": "stdout",
     "output_type": "stream",
     "text": [
      "Intersection of the lists: [3, 4, 5]\n"
     ]
    }
   ],
   "source": [
    "#18. Implement a code to find the intersection of two given lists.\n",
    "\n",
    "list1 = [1, 2, 3, 4, 5]\n",
    "list2 = [3, 4, 5, 6, 7]\n",
    "\n",
    "intersection = []\n",
    "\n",
    "for item in list1:\n",
    "    if item in list2:\n",
    "        intersection.append(item)\n",
    "\n",
    "print(\"Intersection of the lists:\", intersection)"
   ]
  },
  {
   "cell_type": "code",
   "execution_count": 19,
   "id": "0199f634-6ddf-4db0-a2c7-d7b6da812222",
   "metadata": {},
   "outputs": [
    {
     "name": "stdout",
     "output_type": "stream",
     "text": [
      "Union of the lists without duplicates: {1, 2, 3, 4, 5, 6, 7}\n"
     ]
    }
   ],
   "source": [
    "#19. Create a code to find the union of two lists without duplicates.\n",
    "\n",
    "list1 = [1, 2, 3, 4, 5]\n",
    "list2 = [3, 4, 5, 6, 7]\n",
    "\n",
    "union_set = set(list1) | set(list2)\n",
    "\n",
    "union_list = set(union_set)\n",
    "\n",
    "print(\"Union of the lists without duplicates:\", union_list)"
   ]
  },
  {
   "cell_type": "code",
   "execution_count": 20,
   "id": "4d9ac37c-a844-4037-a9cb-a93aeef5b4c4",
   "metadata": {},
   "outputs": [
    {
     "name": "stdout",
     "output_type": "stream",
     "text": [
      "Shuffled list: [4, 5, 3, 1, 2]\n"
     ]
    }
   ],
   "source": [
    "#20. Write a code to shuffle a given list randomly without using any built-in shuffle functions.\n",
    "\n",
    "import random\n",
    "\n",
    "my_list = [1, 2, 3, 4, 5]\n",
    "\n",
    "n = len(my_list)\n",
    "\n",
    "for i in range(n-1, 0, -1):\n",
    "    j = random.randint(0, i)\n",
    "    my_list[i], my_list[j] = my_list[j], my_list[i]\n",
    "\n",
    "print(\"Shuffled list:\", my_list)"
   ]
  },
  {
   "cell_type": "code",
   "execution_count": 21,
   "id": "9cd11437-f0f5-439e-bfa4-84aa71390662",
   "metadata": {},
   "outputs": [
    {
     "name": "stdout",
     "output_type": "stream",
     "text": [
      "Common elements tuple: (3, 4, 5)\n"
     ]
    }
   ],
   "source": [
    "#21. Write a code that takes two tuples as input and returns a new tuple containing elements that are common to both input tuples.\n",
    "\n",
    "tuple1 = (1, 2, 3, 4, 5)\n",
    "tuple2 = (3, 4, 5, 6, 7)\n",
    "\n",
    "common_elements = set(tuple1) & set(tuple2)\n",
    "\n",
    "common_tuple = tuple(common_elements)\n",
    "\n",
    "print(\"Common elements tuple:\", common_tuple)"
   ]
  },
  {
   "cell_type": "code",
   "execution_count": 22,
   "id": "af26e48a-caa4-446c-9a86-8dbd137f8d3b",
   "metadata": {},
   "outputs": [
    {
     "name": "stdin",
     "output_type": "stream",
     "text": [
      "Enter the first set of integers, separated by commas:  1,2,3,4,5\n",
      "Enter the second set of integers, separated by commas:  3,5,6,8,9\n"
     ]
    },
    {
     "name": "stdout",
     "output_type": "stream",
     "text": [
      "Intersection of the sets: {3, 5}\n"
     ]
    }
   ],
   "source": [
    "#22. Create a code that prompts the user to enter two sets of integers separated by commas. Then print the intersection of these two sets.\n",
    "\n",
    "input_set1 = input(\"Enter the first set of integers, separated by commas: \")\n",
    "\n",
    "input_set2 = input(\"Enter the second set of integers, separated by commas: \")\n",
    "\n",
    "set1 = set(map(int, input_set1.split(',')))\n",
    "set2 = set(map(int, input_set2.split(',')))\n",
    "\n",
    "intersection_set = set1 & set2\n",
    "\n",
    "print(\"Intersection of the sets:\", intersection_set)"
   ]
  },
  {
   "cell_type": "code",
   "execution_count": 23,
   "id": "a247206d-c2be-4900-9060-0653017feec9",
   "metadata": {},
   "outputs": [
    {
     "name": "stdout",
     "output_type": "stream",
     "text": [
      "Concatenated tuple: (1, 2, 3, 4, 5, 6)\n"
     ]
    }
   ],
   "source": [
    "#23 Write a code to concatenate two tuples. The function should take two tuples as input and return a new tuple containing elements from both input tuples.\n",
    "\n",
    "def concatenate_tuples(tuple1, tuple2):\n",
    "    return tuple1 + tuple2\n",
    "\n",
    "tuple1 = (1, 2, 3)\n",
    "tuple2 = (4, 5, 6)\n",
    "\n",
    "concatenated_tuple = concatenate_tuples(tuple1, tuple2)\n",
    "print(\"Concatenated tuple:\", concatenated_tuple)"
   ]
  },
  {
   "cell_type": "code",
   "execution_count": 24,
   "id": "0293b40f-a32e-4b07-83ec-4c6d5cc1b146",
   "metadata": {},
   "outputs": [
    {
     "name": "stdin",
     "output_type": "stream",
     "text": [
      "Enter the first set of strings, separated by spaces:  apple banana cherry\n",
      "Enter the second set of strings, separated by spaces:  apple banana date\n"
     ]
    },
    {
     "name": "stdout",
     "output_type": "stream",
     "text": [
      "Elements present in the first set but not in the second set: {'cherry'}\n"
     ]
    }
   ],
   "source": [
    "#24. Develop a code that prompts the user to input two sets of string. Then, print the elements that are present in the first set but not in the second set.\n",
    "\n",
    "input_set1 = input(\"Enter the first set of strings, separated by spaces: \").split()\n",
    "\n",
    "input_set2 = input(\"Enter the second set of strings, separated by spaces: \").split()\n",
    "\n",
    "set1 = set(input_set1)\n",
    "set2 = set(input_set2)\n",
    "\n",
    "result_set = set1 - set2\n",
    "\n",
    "print(\"Elements present in the first set but not in the second set:\", result_set)"
   ]
  },
  {
   "cell_type": "code",
   "execution_count": 25,
   "id": "a00402ce-78c0-442c-9aea-5de390737821",
   "metadata": {},
   "outputs": [
    {
     "name": "stdout",
     "output_type": "stream",
     "text": [
      "Subtuple: (3, 4, 5, 6)\n"
     ]
    }
   ],
   "source": [
    "#25. create a code that takes a tuple and two integer as input. The function should return a new tuple containing elements from the original tuple within the specified range of indices.\n",
    "\n",
    "def get_subtuple(original_tuple, start_index, end_index):\n",
    "    return original_tuple[start_index:end_index+1]\n",
    "\n",
    "original_tuple = (1, 2, 3, 4, 5, 6, 7)\n",
    "start_index = 2\n",
    "end_index = 5\n",
    "\n",
    "subtuple = get_subtuple(original_tuple, start_index, end_index)\n",
    "print(\"Subtuple:\", subtuple)"
   ]
  },
  {
   "cell_type": "code",
   "execution_count": 26,
   "id": "7741261d-7a8f-438f-ad1d-d0cff7804f93",
   "metadata": {},
   "outputs": [
    {
     "name": "stdin",
     "output_type": "stream",
     "text": [
      "Enter the first set of characters, separated by spaces:  a b c d\n",
      "Enter the second set of characters, separated by spaces:  c d e f\n"
     ]
    },
    {
     "name": "stdout",
     "output_type": "stream",
     "text": [
      "Union of the sets: {'a', 'b', 'f', 'd', 'e', 'c'}\n"
     ]
    }
   ],
   "source": [
    "#26. write a code that prompts the user to inputs two sets of characters. Then, print the union of these two sets.\n",
    "\n",
    "input_set1 = input(\"Enter the first set of characters, separated by spaces: \")\n",
    "input_set2 = input(\"Enter the second set of characters, separated by spaces: \")\n",
    "\n",
    "set1 = set(input_set1.split())\n",
    "set2 = set(input_set2.split())\n",
    "\n",
    "union_set = set1.union(set2)\n",
    "\n",
    "print(\"Union of the sets:\", union_set)"
   ]
  },
  {
   "cell_type": "code",
   "execution_count": 27,
   "id": "0a80b005-ce68-43f9-8d98-6646c216b129",
   "metadata": {},
   "outputs": [
    {
     "name": "stdout",
     "output_type": "stream",
     "text": [
      "Maximum value: 5\n",
      "Minimum value: 1\n"
     ]
    }
   ],
   "source": [
    "#27. Develop a code that takes a tuple of integers as input. The function should return the maximum and minimum values from the tuple using tuple unpacking.\n",
    "\n",
    "def find_max_min(input_tuple):\n",
    "    max_value = max(input_tuple)\n",
    "    min_value = min(input_tuple)\n",
    "    return max_value, min_value\n",
    "input_tuple = (3, 1, 5, 2, 4)\n",
    "\n",
    "max_value, min_value = find_max_min(input_tuple)\n",
    "print(\"Maximum value:\", max_value)\n",
    "print(\"Minimum value:\", min_value)"
   ]
  },
  {
   "cell_type": "code",
   "execution_count": 28,
   "id": "65172fb0-566b-4ff3-8a8f-83cd8e4c17e5",
   "metadata": {},
   "outputs": [
    {
     "name": "stdout",
     "output_type": "stream",
     "text": [
      "Union of the sets: {1, 2, 3, 4, 5, 6, 7, 8}\n",
      "Intersection of the sets: {4, 5}\n",
      "Difference of the sets: {1, 2, 3}\n"
     ]
    }
   ],
   "source": [
    "#28. Create a code that defines two sets of integers. Then, print the union, intersection, and diffrecnce of these two sets.\n",
    "\n",
    "set1 = {1, 2, 3, 4, 5}\n",
    "set2 = {4, 5, 6, 7, 8}\n",
    "\n",
    "union_set = set1 | set2\n",
    "\n",
    "intersection_set = set1 & set2\n",
    "\n",
    "difference_set = set1 - set2\n",
    "\n",
    "print(\"Union of the sets:\", union_set)\n",
    "print(\"Intersection of the sets:\", intersection_set)\n",
    "print(\"Difference of the sets:\", difference_set)"
   ]
  },
  {
   "cell_type": "code",
   "execution_count": 29,
   "id": "8c5c496c-cfd7-46f4-a035-1867c053b82d",
   "metadata": {},
   "outputs": [
    {
     "name": "stdout",
     "output_type": "stream",
     "text": [
      "Number of occurrences of 3 in the tuple: 3\n"
     ]
    }
   ],
   "source": [
    "#29. Write a code that takes a tuple and an element as input. The function should return the count of occurrences of the given element in the tuple.\n",
    "\n",
    "def count_occurrences(input_tuple, element):\n",
    "    return input_tuple.count(element)\n",
    "\n",
    "input_tuple = (1, 2, 3, 4, 3, 2, 1, 3, 2, 1)\n",
    "element = 3\n",
    "\n",
    "occurrences = count_occurrences(input_tuple, element)\n",
    "print(\"Number of occurrences of\", element, \"in the tuple:\", occurrences)\n"
   ]
  },
  {
   "cell_type": "code",
   "execution_count": 30,
   "id": "55633e74-9ff9-4184-8da5-234457f11616",
   "metadata": {},
   "outputs": [
    {
     "name": "stdin",
     "output_type": "stream",
     "text": [
      "Enter the first set of strings, separated by spaces:  apple banana cherry\n",
      "Enter the second set of strings, separated by spaces:  apple banana date\n"
     ]
    },
    {
     "name": "stdout",
     "output_type": "stream",
     "text": [
      "Symmetric difference of the sets: {'cherry', 'date'}\n"
     ]
    }
   ],
   "source": [
    "#30. Develop a code that prompts the user to input two sets of strings. Then, print the symmetric difference of these two sets.\n",
    "\n",
    "input_set1 = input(\"Enter the first set of strings, separated by spaces: \")\n",
    "input_set2 = input(\"Enter the second set of strings, separated by spaces: \")\n",
    "\n",
    "set1 = set(input_set1.split())\n",
    "set2 = set(input_set2.split())\n",
    "\n",
    "symmetric_difference_set = set1 ^ set2\n",
    "\n",
    "print(\"Symmetric difference of the sets:\", symmetric_difference_set)"
   ]
  },
  {
   "cell_type": "code",
   "execution_count": 31,
   "id": "801d2105-5ca3-4eb1-b24e-67856a7ee9e5",
   "metadata": {},
   "outputs": [
    {
     "name": "stdout",
     "output_type": "stream",
     "text": [
      "Word frequencies: {'apple': 3, 'banana': 2, 'cherry': 1}\n"
     ]
    }
   ],
   "source": [
    "#31. Write a code that takes a list of words as input and returns a dictionary where the keys are unique words and the value are the frequencies of those words in the input list.\n",
    "\n",
    "def word_frequencies(words):\n",
    "    frequency_dict = {}\n",
    "    for word in words:\n",
    "        if word in frequency_dict:\n",
    "            frequency_dict[word] += 1\n",
    "        else:\n",
    "            frequency_dict[word] = 1\n",
    "    return frequency_dict\n",
    "\n",
    "input_words = [\"apple\", \"banana\", \"apple\", \"cherry\", \"banana\", \"apple\"]\n",
    "\n",
    "frequencies = word_frequencies(input_words)\n",
    "print(\"Word frequencies:\", frequencies)\n"
   ]
  },
  {
   "cell_type": "code",
   "execution_count": 32,
   "id": "2e45d968-81d4-4245-93eb-865367c48266",
   "metadata": {},
   "outputs": [
    {
     "name": "stdout",
     "output_type": "stream",
     "text": [
      "Merged dictionary: {'a': 1, 'b': 5, 'c': 7, 'd': 5}\n"
     ]
    }
   ],
   "source": [
    "#32. write a code that takes two dictionaries as input and merges them into a single dictionary. if there are common keys, the values should be added together.\n",
    "\n",
    "from collections import Counter\n",
    "\n",
    "dict1 = {'a': 1, 'b': 2, 'c': 3}\n",
    "dict2 = {'b': 3, 'c': 4, 'd': 5}\n",
    "\n",
    "# Use Counter to merge dictionaries and sum values of common keys\n",
    "merged_dict = dict(Counter(dict1) + Counter(dict2))\n",
    "\n",
    "print(\"Merged dictionary:\", merged_dict)"
   ]
  },
  {
   "cell_type": "code",
   "execution_count": 33,
   "id": "fd1b1145-8c95-4f58-87e9-3f4f19bdade4",
   "metadata": {},
   "outputs": [
    {
     "name": "stdout",
     "output_type": "stream",
     "text": [
      "Value: 1\n"
     ]
    }
   ],
   "source": [
    "#33. Write a code to access a value in a nested dictionary.The function should take the dictionary and a list of keys as input, and return the corresponding value.if any of the keys do not exist in the dictionary.the function should return None.\n",
    "\n",
    "def access_nested_dict(nested_dict, keys):\n",
    "    for key in keys:\n",
    "        if key in nested_dict:\n",
    "            nested_dict = nested_dict[key]\n",
    "        else:\n",
    "            return None\n",
    "    return nested_dict\n",
    "\n",
    "nested_dict = {'a': {'b': {'c': 1}}}\n",
    "keys = ['a', 'b', 'c']\n",
    "\n",
    "value = access_nested_dict(nested_dict, keys)\n",
    "print(\"Value:\", value)"
   ]
  },
  {
   "cell_type": "code",
   "execution_count": 34,
   "id": "522e0e27-156c-4932-84c5-89cf0530f14f",
   "metadata": {},
   "outputs": [
    {
     "name": "stdout",
     "output_type": "stream",
     "text": [
      "Sorted dictionary (ascending order): {'b': 1, 'c': 2, 'a': 3}\n",
      "Sorted dictionary (descending order): {'a': 3, 'c': 2, 'b': 1}\n"
     ]
    }
   ],
   "source": [
    "#34. Write a code that takes a dictionary as input and returns a sorted version of it based on the values.you can choose whether to sort in ascending or descending order.\n",
    "\n",
    "input_dict = {'a': 3, 'b': 1, 'c': 2}\n",
    "\n",
    "sorted_dict_asc = dict(sorted(input_dict.items(), key=lambda item: item[1]))\n",
    "\n",
    "sorted_dict_desc = dict(sorted(input_dict.items(), key=lambda item: item[1], reverse=True))\n",
    "\n",
    "print(\"Sorted dictionary (ascending order):\", sorted_dict_asc)\n",
    "print(\"Sorted dictionary (descending order):\", sorted_dict_desc)\n"
   ]
  },
  {
   "cell_type": "code",
   "execution_count": 35,
   "id": "ec89a11d-0ce4-45e4-8a4b-3713d6b427a2",
   "metadata": {},
   "outputs": [
    {
     "name": "stdout",
     "output_type": "stream",
     "text": [
      "Inverted dictionary: {1: ['a', 'c'], 2: ['b', 'e'], 3: ['d']}\n"
     ]
    }
   ],
   "source": [
    "#35 Write a code that inverts a dictionary, swapping keys and values.Ensure that the inverted dictionary correctly handless cases where multiple keys have the same value by storing the keys as a list in the inverted dictionary.\n",
    "\n",
    "input_dict = {'a': 1, 'b': 2, 'c': 1, 'd': 3, 'e': 2}\n",
    "inverted_dict = {}\n",
    "\n",
    "for key, value in input_dict.items():\n",
    "    if value in inverted_dict:\n",
    "        inverted_dict[value].append(key)  \n",
    "    else:\n",
    "        inverted_dict[value] = [key]  \n",
    "        \n",
    "print(\"Inverted dictionary:\", inverted_dict)\n"
   ]
  }
 ],
 "metadata": {
  "kernelspec": {
   "display_name": "Python 3 (ipykernel)",
   "language": "python",
   "name": "python3"
  },
  "language_info": {
   "codemirror_mode": {
    "name": "ipython",
    "version": 3
   },
   "file_extension": ".py",
   "mimetype": "text/x-python",
   "name": "python",
   "nbconvert_exporter": "python",
   "pygments_lexer": "ipython3",
   "version": "3.10.8"
  }
 },
 "nbformat": 4,
 "nbformat_minor": 5
}
